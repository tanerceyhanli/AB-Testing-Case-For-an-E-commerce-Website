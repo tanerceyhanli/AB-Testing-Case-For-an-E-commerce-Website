{
 "cells": [
  {
   "cell_type": "markdown",
   "metadata": {},
   "source": [
    "## A/B Testing Case For an E-commerce Website"
   ]
  },
  {
   "cell_type": "markdown",
   "metadata": {},
   "source": [
    "Ufuk Taner CEYHANLI <br>\n",
    "[*tanerceyhanli.github.io*](https://tanerceyhanli.github.io)"
   ]
  },
  {
   "cell_type": "markdown",
   "metadata": {},
   "source": [
    "### Business Problem"
   ]
  },
  {
   "cell_type": "markdown",
   "metadata": {},
   "source": [
    "In this study, I am going to design an A/B test for a planned a change to be deployed in a e-commerce website and give recommendations based on the results. The company is planing to deploy a recommendation engine which is tought to be offering right products to the website visitors after clicking \"Buy a product\" button. However this change may harm or improve the company's bussiness, at this point A/B testing is necessary.  "
   ]
  },
  {
   "cell_type": "markdown",
   "metadata": {},
   "source": [
    "### Introduction"
   ]
  },
  {
   "cell_type": "markdown",
   "metadata": {},
   "source": [
    "A successful A/B test must include all the steps below.\n",
    "\n",
    "- **Step 1** Set the goal, hypothesis and choose metrics for sanity check and evaluation\n",
    "- **Step 2** Choose significance level, statistical power, and practical significance level\n",
    "- **Step 3** Calculate the required sample size\n",
    "- **Step 4** Design and Run the Experiment\n",
    "- **Step 5** Analyze the results and draw conclusions: Sanity checks & Effect size analysis"
   ]
  },
  {
   "cell_type": "code",
   "execution_count": 297,
   "metadata": {},
   "outputs": [],
   "source": [
    "#Importing necessary packages\n",
    "import pandas as pd\n",
    "import numpy as np\n",
    "from scipy.stats import norm\n",
    "import matplotlib.pyplot as plt\n",
    "import seaborn as sns"
   ]
  },
  {
   "cell_type": "markdown",
   "metadata": {},
   "source": [
    "### Step 1) Set the goal, hypothesis and choose metrics for sanity check and evaluation"
   ]
  },
  {
   "cell_type": "markdown",
   "metadata": {},
   "source": [
    "Our hypothesis is that payment and sign up rates of the site are going to increase due to the change on the site."
   ]
  },
  {
   "cell_type": "markdown",
   "metadata": {},
   "source": [
    "<center><h4><strong> Customer Funnel </strong></h4> <img src=\"customer_funnel.png\" width=\"600\"> </center>"
   ]
  },
  {
   "cell_type": "markdown",
   "metadata": {},
   "source": [
    "#### Metrics"
   ]
  },
  {
   "cell_type": "markdown",
   "metadata": {},
   "source": [
    "Invariant metrics:\n",
    "- Pageviews\n",
    "- Clicks\n",
    "- CTP\n",
    "\n",
    "Evaluation metrics:\n",
    "- Gross Conversion: Probability of signing up, given click (Number of Sign-ups/Number of Clicks)\n",
    "- Retention:         Probability of payment, given sign up   (Number of Payments/Number of Sign-ups)\n",
    "- Net Conversion:    Probability of payment, given click    (Number of Payments/Number of Clicks)"
   ]
  },
  {
   "cell_type": "markdown",
   "metadata": {},
   "source": [
    "### Step 2) Choose significance level, statistical power, and practical significance level"
   ]
  },
  {
   "cell_type": "markdown",
   "metadata": {},
   "source": [
    "| Item  | Gross Conversion | Retension | Net Conversion  |\n",
    "|:-:|:-:|:-:|:-:|\n",
    "| Significance Level $\\alpha$ | 5%  | 5%  | 5%  |\n",
    "| Statistical Power 1-$\\beta$ | 80%  | 80%  | 80%  |\n",
    "| Practical Significance Level | 1%  | 1%  | 0.75%  |"
   ]
  },
  {
   "cell_type": "markdown",
   "metadata": {},
   "source": [
    "### Step 3) Calculate the required sample size"
   ]
  },
  {
   "cell_type": "markdown",
   "metadata": {},
   "source": [
    "The company has already baseline values seen below "
   ]
  },
  {
   "cell_type": "code",
   "execution_count": 298,
   "metadata": {},
   "outputs": [
    {
     "data": {
      "text/html": [
       "<div>\n",
       "<style scoped>\n",
       "    .dataframe tbody tr th:only-of-type {\n",
       "        vertical-align: middle;\n",
       "    }\n",
       "\n",
       "    .dataframe tbody tr th {\n",
       "        vertical-align: top;\n",
       "    }\n",
       "\n",
       "    .dataframe thead th {\n",
       "        text-align: right;\n",
       "    }\n",
       "</style>\n",
       "<table border=\"1\" class=\"dataframe\">\n",
       "  <thead>\n",
       "    <tr style=\"text-align: right;\">\n",
       "      <th></th>\n",
       "      <th>0</th>\n",
       "      <th>1</th>\n",
       "    </tr>\n",
       "  </thead>\n",
       "  <tbody>\n",
       "    <tr>\n",
       "      <th>0</th>\n",
       "      <td>Unique cookies to view page per day</td>\n",
       "      <td>70000.000000</td>\n",
       "    </tr>\n",
       "    <tr>\n",
       "      <th>1</th>\n",
       "      <td>Unique cookies to click \"Buy a product\" per day</td>\n",
       "      <td>5600.000000</td>\n",
       "    </tr>\n",
       "    <tr>\n",
       "      <th>2</th>\n",
       "      <td>Sign-ups per day</td>\n",
       "      <td>1155.000000</td>\n",
       "    </tr>\n",
       "    <tr>\n",
       "      <th>3</th>\n",
       "      <td>Click-through-probability on \"Buy a product\"</td>\n",
       "      <td>0.080000</td>\n",
       "    </tr>\n",
       "    <tr>\n",
       "      <th>4</th>\n",
       "      <td>Gross Conversion</td>\n",
       "      <td>0.206250</td>\n",
       "    </tr>\n",
       "    <tr>\n",
       "      <th>5</th>\n",
       "      <td>Retention</td>\n",
       "      <td>0.530000</td>\n",
       "    </tr>\n",
       "    <tr>\n",
       "      <th>6</th>\n",
       "      <td>Net conversion</td>\n",
       "      <td>0.109313</td>\n",
       "    </tr>\n",
       "  </tbody>\n",
       "</table>\n",
       "</div>"
      ],
      "text/plain": [
       "                                                 0             1\n",
       "0              Unique cookies to view page per day  70000.000000\n",
       "1  Unique cookies to click \"Buy a product\" per day   5600.000000\n",
       "2                                 Sign-ups per day   1155.000000\n",
       "3     Click-through-probability on \"Buy a product\"      0.080000\n",
       "4                                 Gross Conversion      0.206250\n",
       "5                                        Retention      0.530000\n",
       "6                                   Net conversion      0.109313"
      ]
     },
     "execution_count": 298,
     "metadata": {},
     "output_type": "execute_result"
    }
   ],
   "source": [
    "df_baseline=pd.read_csv(\"Baseline.csv\", header=None)\n",
    "df_baseline"
   ]
  },
  {
   "cell_type": "code",
   "execution_count": 299,
   "metadata": {},
   "outputs": [],
   "source": [
    "#Inputs: required alpha value (alpha should already fit the required test)\n",
    "#Returns: z-score for given alpha\n",
    "def get_z_score(alpha):\n",
    "    return norm.ppf(alpha)\n",
    "\n",
    "# Inputs p-baseline conversion rate which is our estimated p and d-minimum detectable change\n",
    "# Returns\n",
    "def get_sds(p,d):\n",
    "    sd1 = np.sqrt(p * (1-p) + p * (1-p))\n",
    "    sd2 = np.sqrt(p *(1-p) + (p + d)* (1-(p+d)))\n",
    "    sds = [sd1, sd2]\n",
    "    return sds\n",
    "\n",
    "# Inputs:sd1-sd for the baseline,sd2-sd for the expected change,alpha,beta,d-d_min,p-baseline estimate p\n",
    "# Returns: the minimum sample size required per group according to metric denominator\n",
    "def get_sampSize(sds,alpha,beta,d):\n",
    "    n = pow ((get_z_score(1 - alpha / 2) * sds[0] + get_z_score (1 - beta) * sds[1]),2) / pow(d,2)\n",
    "    return n"
   ]
  },
  {
   "cell_type": "markdown",
   "metadata": {},
   "source": [
    "#### Gross Conversion"
   ]
  },
  {
   "cell_type": "code",
   "execution_count": 300,
   "metadata": {},
   "outputs": [
    {
     "data": {
      "text/plain": [
       "645875.0"
      ]
     },
     "execution_count": 300,
     "metadata": {},
     "output_type": "execute_result"
    }
   ],
   "source": [
    "GC={}\n",
    "GC[\"d_min\"]=0.01\n",
    "GC[\"p\"]=df_baseline.iloc[4,1]\n",
    "GC[\"SampSize\"]=round(get_sampSize(get_sds(GC[\"p\"],GC[\"d_min\"]),0.05,0.2,GC[\"d_min\"]))\n",
    "GC[\"SampSize_total\"] = GC[\"SampSize\"] / 0.08*2\n",
    "GC[\"SampSize_total\"]"
   ]
  },
  {
   "cell_type": "markdown",
   "metadata": {},
   "source": [
    "Baseline Conversion: 20.625% <Br>\n",
    "Minimum Detectable Effect: 1%\n",
    "Alpha: 5% <br>\n",
    "Beta: 20% <br>\n",
    "Sensitivity (1 - Beta): 80% <br>\n",
    "Sample Size = 25835 clicks/group <br>\n",
    "Number of groups = 2 (experiment and control)<br>\n",
    "Total sample size = 51670 clicks <br>\n",
    "Clicks/Pageview: 5600/70000 = 0.08 <br>\n",
    "Pageviews Required = 51670 / 0.08 = 645875"
   ]
  },
  {
   "cell_type": "markdown",
   "metadata": {},
   "source": [
    "#### Retension"
   ]
  },
  {
   "cell_type": "code",
   "execution_count": 301,
   "metadata": {},
   "outputs": [
    {
     "data": {
      "text/plain": [
       "4737818"
      ]
     },
     "execution_count": 301,
     "metadata": {},
     "output_type": "execute_result"
    }
   ],
   "source": [
    "RT={}\n",
    "RT[\"d_min\"]=0.01\n",
    "RT[\"p\"]=df_baseline.iloc[5,1]\n",
    "RT[\"SampSize\"]=round(get_sampSize(get_sds(RT[\"p\"],RT[\"d_min\"]),0.05,0.2,RT[\"d_min\"]))\n",
    "RT[\"SampSize_total\"] = round(RT[\"SampSize\"] / 0.20625 / 0.08 * 2)\n",
    "RT[\"SampSize_total\"]"
   ]
  },
  {
   "cell_type": "markdown",
   "metadata": {},
   "source": [
    "Baseline Conversion: 53% <br>\n",
    "Minimum Detectable Effect: 1% <br>\n",
    "Alpha: 5% <br>\n",
    "Beta: 20% <br>\n",
    "Sensitivity (1 - Beta): 80% <br>\n",
    "Sample size = 39087 sign-ups/group <br>\n",
    "Number of groups = 2 (experiment and control) <br>\n",
    "Total sample size = 78174 sign-ups <br>\n",
    "Sign-ups/pageview: 1155/70000 = 0.0165  <br>\n",
    "Pageviews = 78174/0.0165 = 4737818"
   ]
  },
  {
   "cell_type": "markdown",
   "metadata": {},
   "source": [
    "#### Net Conversion"
   ]
  },
  {
   "cell_type": "code",
   "execution_count": 302,
   "metadata": {
    "scrolled": true
   },
   "outputs": [
    {
     "data": {
      "text/plain": [
       "519975.0"
      ]
     },
     "execution_count": 302,
     "metadata": {},
     "output_type": "execute_result"
    }
   ],
   "source": [
    "NC={}\n",
    "NC[\"d_min\"]=0.0075\n",
    "NC[\"p\"]=df_baseline.iloc[3,1]\n",
    "NC[\"SampSize\"]=round(get_sampSize(get_sds(NC[\"p\"],NC[\"d_min\"]),0.05,0.2,NC[\"d_min\"]))\n",
    "NC[\"SampSize_total\"] = NC[\"SampSize\"] * 2 / (1600/20000)\n",
    "NC[\"SampSize_total\"]"
   ]
  },
  {
   "cell_type": "markdown",
   "metadata": {},
   "source": [
    "Baseline Conversion: 10.9313% <br>\n",
    "Minimum Detectable Effect (MDE): 0.75% <br>\n",
    "Alpha: 5% <br>\n",
    "Beta: 20% <br>\n",
    "Sensitivity (1 - Beta): 80% <br>\n",
    "Sample size = 27413 clicks/group <br>\n",
    "Number of groups = 2 (experiment and control) <br>\n",
    "Total sample size = 54826 clicks <br>\n",
    "Clicks/pageview: 5600/70000 = 0.08  <br>\n",
    "Pageviews = 54826/0.08 = 685325"
   ]
  },
  {
   "cell_type": "markdown",
   "metadata": {},
   "source": [
    "If the change is divert to **100%** traffic, the company needs at least **68 days** for the experiment due to high amount of sample size requirement of Retention metric. <br>\n",
    "4737818 / 70000 = 67.68\n",
    "\n",
    "Considering the importance of metric and the experiment duration, evaluating this change by using Gross Conversion and Net Conversion metrics with lower traffic diversion will be safer for the company's business. This way, the experiment duration will be at least **20 days** with **50%** divert to the traffic. <br>\n",
    "685325/70000 = 9.79\n"
   ]
  },
  {
   "cell_type": "markdown",
   "metadata": {},
   "source": [
    "### Step 4) Design and Run the Experiment"
   ]
  },
  {
   "cell_type": "markdown",
   "metadata": {},
   "source": [
    "At least during 20 days the data is collected from the users with 50% diversion to the traffic."
   ]
  },
  {
   "cell_type": "markdown",
   "metadata": {},
   "source": [
    "### Step 5) Analyze the results and draw conclusions"
   ]
  },
  {
   "cell_type": "markdown",
   "metadata": {},
   "source": [
    "Before starting effect size analysis, I need to ensure that number of pageviews and clicks are evenly distributed to control and experiment groups. I also need to check there is not a significant difference between control and experiment groups in terms of click through probability"
   ]
  },
  {
   "cell_type": "code",
   "execution_count": 317,
   "metadata": {
    "scrolled": false
   },
   "outputs": [
    {
     "name": "stdout",
     "output_type": "stream",
     "text": [
      "       Date  Pageviews  Clicks  Sign-ups  Payments\n",
      "0  6/5/2020       3862     344        67        20\n",
      "1  6/6/2020       4551     390        74        25\n",
      "2  6/7/2020       5256     455        84        30\n",
      "3  6/8/2020       4936     418        78        33\n",
      "4  6/9/2020       5007     419       110        51\n",
      "       Date  Pageviews  Clicks  Sign-ups  Payments\n",
      "0  6/5/2020       3858     343        53        17\n",
      "1  6/6/2020       4644     393        58        46\n",
      "2  6/7/2020       5240     442        73        40\n",
      "3  6/8/2020       4934     414        69        46\n",
      "4  6/9/2020       4897     416        70        47\n"
     ]
    }
   ],
   "source": [
    "df_cntrl=pd.read_csv(\"control_group.csv\")\n",
    "df_exprmnt=pd.read_csv(\"experiment_group.csv\")\n",
    "print(df_cntrl.head())\n",
    "print(df_exprmnt.head())"
   ]
  },
  {
   "cell_type": "code",
   "execution_count": 318,
   "metadata": {},
   "outputs": [
    {
     "data": {
      "text/plain": [
       "(23, 5)"
      ]
     },
     "execution_count": 318,
     "metadata": {},
     "output_type": "execute_result"
    }
   ],
   "source": [
    "df_cntrl.shape"
   ]
  },
  {
   "cell_type": "markdown",
   "metadata": {},
   "source": [
    "**23 days** of experiment"
   ]
  },
  {
   "cell_type": "markdown",
   "metadata": {},
   "source": [
    "#### Sign Test for Invariant Metrics"
   ]
  },
  {
   "cell_type": "code",
   "execution_count": 319,
   "metadata": {},
   "outputs": [],
   "source": [
    "results ={'Control':pd.Series([df_cntrl.Pageviews.sum(), df_cntrl.Clicks.sum()], index=[\"Pageviews\",\"Clicks\"]),\n",
    "          'Experiment':pd.Series([df_exprmnt.Pageviews.sum(), df_exprmnt.Clicks.sum()], index=[\"Pageviews\",\"Clicks\"])}\n"
   ]
  },
  {
   "cell_type": "code",
   "execution_count": 320,
   "metadata": {},
   "outputs": [
    {
     "data": {
      "text/html": [
       "<div>\n",
       "<style scoped>\n",
       "    .dataframe tbody tr th:only-of-type {\n",
       "        vertical-align: middle;\n",
       "    }\n",
       "\n",
       "    .dataframe tbody tr th {\n",
       "        vertical-align: top;\n",
       "    }\n",
       "\n",
       "    .dataframe thead th {\n",
       "        text-align: right;\n",
       "    }\n",
       "</style>\n",
       "<table border=\"1\" class=\"dataframe\">\n",
       "  <thead>\n",
       "    <tr style=\"text-align: right;\">\n",
       "      <th></th>\n",
       "      <th>Control</th>\n",
       "      <th>Experiment</th>\n",
       "    </tr>\n",
       "  </thead>\n",
       "  <tbody>\n",
       "    <tr>\n",
       "      <th>Pageviews</th>\n",
       "      <td>106087</td>\n",
       "      <td>105685</td>\n",
       "    </tr>\n",
       "    <tr>\n",
       "      <th>Clicks</th>\n",
       "      <td>8654</td>\n",
       "      <td>8635</td>\n",
       "    </tr>\n",
       "  </tbody>\n",
       "</table>\n",
       "</div>"
      ],
      "text/plain": [
       "           Control  Experiment\n",
       "Pageviews   106087      105685\n",
       "Clicks        8654        8635"
      ]
     },
     "execution_count": 320,
     "metadata": {},
     "output_type": "execute_result"
    }
   ],
   "source": [
    "df_results = pd.DataFrame(results)\n",
    "df_results"
   ]
  },
  {
   "cell_type": "code",
   "execution_count": 326,
   "metadata": {},
   "outputs": [
    {
     "data": {
      "text/html": [
       "<div>\n",
       "<style scoped>\n",
       "    .dataframe tbody tr th:only-of-type {\n",
       "        vertical-align: middle;\n",
       "    }\n",
       "\n",
       "    .dataframe tbody tr th {\n",
       "        vertical-align: top;\n",
       "    }\n",
       "\n",
       "    .dataframe thead th {\n",
       "        text-align: right;\n",
       "    }\n",
       "</style>\n",
       "<table border=\"1\" class=\"dataframe\">\n",
       "  <thead>\n",
       "    <tr style=\"text-align: right;\">\n",
       "      <th></th>\n",
       "      <th>Control</th>\n",
       "      <th>Experiment</th>\n",
       "      <th>Total</th>\n",
       "      <th>Prob</th>\n",
       "      <th>StdErr</th>\n",
       "      <th>MargErr</th>\n",
       "      <th>CI_lower</th>\n",
       "      <th>CI_upper</th>\n",
       "      <th>Obs_val</th>\n",
       "      <th>Pass_Sanity</th>\n",
       "      <th>Diff</th>\n",
       "    </tr>\n",
       "  </thead>\n",
       "  <tbody>\n",
       "    <tr>\n",
       "      <th>Pageviews</th>\n",
       "      <td>106087</td>\n",
       "      <td>105685</td>\n",
       "      <td>211772</td>\n",
       "      <td>0.5</td>\n",
       "      <td>0.001087</td>\n",
       "      <td>0.002130</td>\n",
       "      <td>0.497870</td>\n",
       "      <td>0.502130</td>\n",
       "      <td>0.500949</td>\n",
       "      <td>True</td>\n",
       "      <td>0.001898</td>\n",
       "    </tr>\n",
       "    <tr>\n",
       "      <th>Clicks</th>\n",
       "      <td>8654</td>\n",
       "      <td>8635</td>\n",
       "      <td>17289</td>\n",
       "      <td>0.5</td>\n",
       "      <td>0.003803</td>\n",
       "      <td>0.007453</td>\n",
       "      <td>0.492547</td>\n",
       "      <td>0.507453</td>\n",
       "      <td>0.500549</td>\n",
       "      <td>True</td>\n",
       "      <td>0.001099</td>\n",
       "    </tr>\n",
       "  </tbody>\n",
       "</table>\n",
       "</div>"
      ],
      "text/plain": [
       "           Control  Experiment   Total  Prob    StdErr   MargErr  CI_lower  \\\n",
       "Pageviews   106087      105685  211772   0.5  0.001087  0.002130  0.497870   \n",
       "Clicks        8654        8635   17289   0.5  0.003803  0.007453  0.492547   \n",
       "\n",
       "           CI_upper   Obs_val  Pass_Sanity      Diff  \n",
       "Pageviews  0.502130  0.500949         True  0.001898  \n",
       "Clicks     0.507453  0.500549         True  0.001099  "
      ]
     },
     "execution_count": 326,
     "metadata": {},
     "output_type": "execute_result"
    }
   ],
   "source": [
    "df_results[\"Total\"] = df_results[\"Control\"] + df_results[\"Experiment\"]\n",
    "df_results['Prob'] = 0.5\n",
    "df_results['StdErr'] = np.sqrt((df_results.Prob * (1- df_results.Prob))/df_results.Total)\n",
    "df_results[\"MargErr\"] = 1.96 * df_results.StdErr\n",
    "df_results[\"CI_lower\"] = df_results.Prob - df_results.MargErr\n",
    "df_results[\"CI_upper\"] = df_results.Prob + df_results.MargErr\n",
    "df_results[\"Obs_val\"] = df_results.Control/df_results.Total\n",
    "df_results[\"Pass_Sanity\"] = df_results.apply(lambda x: (x.Obs_val > x.CI_lower) and (x.Obs_val < x.CI_upper),axis=1)\n",
    "df_results['Diff'] = abs((df_results.Experiment - df_results.Control)/df_results.Total)\n",
    "\n",
    "df_results"
   ]
  },
  {
   "cell_type": "markdown",
   "metadata": {},
   "source": [
    "Number of pageviews and clicks are equally distributed in two groups as we expect."
   ]
  },
  {
   "cell_type": "code",
   "execution_count": 327,
   "metadata": {},
   "outputs": [],
   "source": [
    "ctp ={'Control':pd.Series([df_cntrl.Clicks.sum()/df_cntrl.Pageviews.sum()], index=[\"CTP\"]),\n",
    "          'Experiment':pd.Series([df_exprmnt.Clicks.sum()/df_exprmnt.Pageviews.sum()], index=[\"CTP\"])}"
   ]
  },
  {
   "cell_type": "code",
   "execution_count": 328,
   "metadata": {},
   "outputs": [],
   "source": [
    "df_ctp = pd.DataFrame(ctp)\n",
    "df_ctp['SE_pooled']=np.sqrt((df_ctp.Control * (1- df_ctp.Control))/df_cntrl.Pageviews.sum())\n",
    "df_ctp['CI_lower']= df_ctp.Control-1.96*df_ctp.SE_pooled\n",
    "df_ctp['CI_upper']= df_ctp.Control+1.96*df_ctp.SE_pooled\n",
    "df_ctp['Obs_val']=df_ctp.Experiment\n",
    "df_ctp[\"Pass_Sanity\"] = df_ctp.apply(lambda x: (x.Obs_val > x.CI_lower) and (x.Obs_val < x.CI_upper),axis=1)"
   ]
  },
  {
   "cell_type": "code",
   "execution_count": 329,
   "metadata": {},
   "outputs": [
    {
     "data": {
      "text/html": [
       "<div>\n",
       "<style scoped>\n",
       "    .dataframe tbody tr th:only-of-type {\n",
       "        vertical-align: middle;\n",
       "    }\n",
       "\n",
       "    .dataframe tbody tr th {\n",
       "        vertical-align: top;\n",
       "    }\n",
       "\n",
       "    .dataframe thead th {\n",
       "        text-align: right;\n",
       "    }\n",
       "</style>\n",
       "<table border=\"1\" class=\"dataframe\">\n",
       "  <thead>\n",
       "    <tr style=\"text-align: right;\">\n",
       "      <th></th>\n",
       "      <th>Control</th>\n",
       "      <th>Experiment</th>\n",
       "      <th>SE_pooled</th>\n",
       "      <th>CI_lower</th>\n",
       "      <th>CI_upper</th>\n",
       "      <th>Obs_val</th>\n",
       "      <th>Pass_Sanity</th>\n",
       "    </tr>\n",
       "  </thead>\n",
       "  <tbody>\n",
       "    <tr>\n",
       "      <th>CTP</th>\n",
       "      <td>0.081575</td>\n",
       "      <td>0.081705</td>\n",
       "      <td>0.00084</td>\n",
       "      <td>0.079927</td>\n",
       "      <td>0.083222</td>\n",
       "      <td>0.081705</td>\n",
       "      <td>True</td>\n",
       "    </tr>\n",
       "  </tbody>\n",
       "</table>\n",
       "</div>"
      ],
      "text/plain": [
       "      Control  Experiment  SE_pooled  CI_lower  CI_upper   Obs_val  \\\n",
       "CTP  0.081575    0.081705    0.00084  0.079927  0.083222  0.081705   \n",
       "\n",
       "     Pass_Sanity  \n",
       "CTP         True  "
      ]
     },
     "execution_count": 329,
     "metadata": {},
     "output_type": "execute_result"
    }
   ],
   "source": [
    "df_ctp"
   ]
  },
  {
   "cell_type": "markdown",
   "metadata": {},
   "source": [
    "There is no significant difference in CTP between two groups as we expect."
   ]
  },
  {
   "cell_type": "markdown",
   "metadata": {},
   "source": [
    "#### Effect Size Analysis"
   ]
  },
  {
   "cell_type": "code",
   "execution_count": 341,
   "metadata": {},
   "outputs": [],
   "source": [
    "esa ={'Control':pd.Series([df_cntrl['Sign-ups'].sum()/df_cntrl.Clicks.sum(), df_cntrl.Payments.sum()/df_cntrl.Clicks.sum()], index=[\"Gross_Conversion\",\"Net_Conversion\"]),\n",
    "          'Experiment':pd.Series([df_exprmnt['Sign-ups'].sum()/df_exprmnt.Clicks.sum(),df_exprmnt.Payments.sum()/df_exprmnt.Clicks.sum()], index=[\"Gross_Conversion\",\"Net_Conversion\"])}"
   ]
  },
  {
   "cell_type": "code",
   "execution_count": 342,
   "metadata": {},
   "outputs": [
    {
     "data": {
      "text/html": [
       "<div>\n",
       "<style scoped>\n",
       "    .dataframe tbody tr th:only-of-type {\n",
       "        vertical-align: middle;\n",
       "    }\n",
       "\n",
       "    .dataframe tbody tr th {\n",
       "        vertical-align: top;\n",
       "    }\n",
       "\n",
       "    .dataframe thead th {\n",
       "        text-align: right;\n",
       "    }\n",
       "</style>\n",
       "<table border=\"1\" class=\"dataframe\">\n",
       "  <thead>\n",
       "    <tr style=\"text-align: right;\">\n",
       "      <th></th>\n",
       "      <th>Control</th>\n",
       "      <th>Experiment</th>\n",
       "      <th>D</th>\n",
       "      <th>Dmin</th>\n",
       "      <th>P_pooled</th>\n",
       "      <th>SE_pooled</th>\n",
       "      <th>CI_lower</th>\n",
       "      <th>CI_upper</th>\n",
       "      <th>Practically Significant (|D|&gt;dmin)</th>\n",
       "      <th>Statistically Significant</th>\n",
       "    </tr>\n",
       "  </thead>\n",
       "  <tbody>\n",
       "    <tr>\n",
       "      <th>Gross_Conversion</th>\n",
       "      <td>0.219205</td>\n",
       "      <td>0.198842</td>\n",
       "      <td>-0.020363</td>\n",
       "      <td>0.0100</td>\n",
       "      <td>0.209035</td>\n",
       "      <td>0.006185</td>\n",
       "      <td>-0.032485</td>\n",
       "      <td>-0.008241</td>\n",
       "      <td>Yes</td>\n",
       "      <td>Yes</td>\n",
       "    </tr>\n",
       "    <tr>\n",
       "      <th>Net_Conversion</th>\n",
       "      <td>0.110700</td>\n",
       "      <td>0.113260</td>\n",
       "      <td>0.002560</td>\n",
       "      <td>0.0075</td>\n",
       "      <td>0.111979</td>\n",
       "      <td>0.004797</td>\n",
       "      <td>-0.006841</td>\n",
       "      <td>0.011961</td>\n",
       "      <td>No</td>\n",
       "      <td>No</td>\n",
       "    </tr>\n",
       "  </tbody>\n",
       "</table>\n",
       "</div>"
      ],
      "text/plain": [
       "                   Control  Experiment         D    Dmin  P_pooled  SE_pooled  \\\n",
       "Gross_Conversion  0.219205    0.198842 -0.020363  0.0100  0.209035   0.006185   \n",
       "Net_Conversion    0.110700    0.113260  0.002560  0.0075  0.111979   0.004797   \n",
       "\n",
       "                  CI_lower  CI_upper Practically Significant (|D|>dmin)  \\\n",
       "Gross_Conversion -0.032485 -0.008241                                Yes   \n",
       "Net_Conversion   -0.006841  0.011961                                 No   \n",
       "\n",
       "                 Statistically Significant  \n",
       "Gross_Conversion                       Yes  \n",
       "Net_Conversion                          No  "
      ]
     },
     "execution_count": 342,
     "metadata": {},
     "output_type": "execute_result"
    }
   ],
   "source": [
    "df_esa = pd.DataFrame(esa)\n",
    "df_esa['D']=df_esa['Experiment']-df_esa['Control']\n",
    "df_esa['Dmin']=0.01,0.0075\n",
    "df_esa['P_pooled']=(df_cntrl['Sign-ups'].sum()+df_exprmnt['Sign-ups'].sum())/(df_cntrl.Clicks.sum()+df_exprmnt.Clicks.sum()),(df_cntrl.Payments.sum()+df_exprmnt.Payments.sum())/(df_cntrl.Clicks.sum()+df_exprmnt.Clicks.sum())\n",
    "df_esa['SE_pooled']=np.sqrt(df_esa.P_pooled* (1- df_esa.P_pooled)*((1/df_cntrl.Clicks.sum())+(1/df_exprmnt.Clicks.sum())))\n",
    "df_esa['CI_lower']= df_esa.D-1.96*df_esa.SE_pooled\n",
    "df_esa['CI_upper']= df_esa.D+1.96*df_esa.SE_pooled\n",
    "df_esa['Practically Significant (|D|>dmin)']=\"Yes\",\"No\"\n",
    "#If O is inside the confidence interval, it is not sitatistically significant.\n",
    "df_esa['Statistically Significant']=\"Yes\",\"No\"\n",
    "df_esa"
   ]
  },
  {
   "cell_type": "markdown",
   "metadata": {},
   "source": [
    "Given these numbers, the experiment showed that a statistically and practically significant number of people chose not to sign up to the website, but that the ratio of users who actually paid for products did not significantly change in either direction. Given this, it suggests that the experiment only deterred some vistiors from signing up to the website but it did not impact the number of people who ultimately paid for the products."
   ]
  },
  {
   "cell_type": "markdown",
   "metadata": {},
   "source": [
    "### Recommendation"
   ]
  },
  {
   "cell_type": "markdown",
   "metadata": {},
   "source": [
    "I recommend not to launch this change because the recommendation engine to be deployed causes people not to sign up to the website, while It does not have a significant positive effect on number of payments."
   ]
  }
 ],
 "metadata": {
  "kernelspec": {
   "display_name": "Python 3",
   "language": "python",
   "name": "python3"
  },
  "language_info": {
   "codemirror_mode": {
    "name": "ipython",
    "version": 3
   },
   "file_extension": ".py",
   "mimetype": "text/x-python",
   "name": "python",
   "nbconvert_exporter": "python",
   "pygments_lexer": "ipython3",
   "version": "3.9.1"
  }
 },
 "nbformat": 4,
 "nbformat_minor": 4
}
